{
 "metadata": {
  "name": "",
  "signature": "sha256:f4241518d571e5faf59e3f888c2e68022335cfe453e4b7158aba077fe026bbd8"
 },
 "nbformat": 3,
 "nbformat_minor": 0,
 "worksheets": [
  {
   "cells": [
    {
     "cell_type": "code",
     "collapsed": false,
     "input": [
      "%matplotlib inline\n",
      "import codecs\n",
      "import collections\n",
      "import itertools\n",
      "import re\n",
      "import unicodedata\n",
      "\n",
      "import matplotlib.pyplot as plt\n",
      "import matplotlib.patches as patches\n",
      "import matplotlib.path as path\n",
      "\n",
      "import numpy as np"
     ],
     "language": "python",
     "metadata": {},
     "outputs": [],
     "prompt_number": 10
    },
    {
     "cell_type": "markdown",
     "metadata": {},
     "source": [
      "First, we'll read in the data from the file. We'll use `codecs.open` to convert it to Unicode as we're going. That will allow us to read in and work with the curly quote characters correctly."
     ]
    },
    {
     "cell_type": "code",
     "collapsed": false,
     "input": [
      "f = codecs.open('night_and_day.txt', 'r', 'utf8')\n",
      "raw_text = f.read()\n",
      "print('{} characters read.'.format(len(raw_text)))"
     ],
     "language": "python",
     "metadata": {},
     "outputs": [
      {
       "output_type": "stream",
       "stream": "stdout",
       "text": [
        "946006 characters read.\n"
       ]
      }
     ],
     "prompt_number": 25
    },
    {
     "cell_type": "markdown",
     "metadata": {},
     "source": [
      "Now that we have the data, let's clean it up some. This will involve several steps:\n",
      "\n",
      "1. Get rid of newlines;\n",
      "1. Case folding."
     ]
    },
    {
     "cell_type": "code",
     "collapsed": false,
     "input": [
      "clean_text = raw_text.replace('\\n', '').lower()\n",
      "print(clean_text[:75] + '...')"
     ],
     "language": "python",
     "metadata": {},
     "outputs": [
      {
       "output_type": "stream",
       "stream": "stdout",
       "text": [
        "chapter iit was a sunday evening in october, and in common with many other ...\n"
       ]
      }
     ],
     "prompt_number": 26
    },
    {
     "cell_type": "heading",
     "level": 2,
     "metadata": {},
     "source": [
      "Finding Quotes"
     ]
    },
    {
     "cell_type": "markdown",
     "metadata": {},
     "source": [
      "Now we can start to identify the quoted quotes. We'll use a regular expression. Let's break it down part-by-part, though, first:\n",
      "\n",
      "* `ur` means that the code should be a `unicode` object, and it shouldn't try to escape any characters. This means that, for instance, \"\\n\" will be interpreted as two characters (backslash and \"n\") not a single newline.\n",
      "* `\u201c` looks for the first open quote.\n",
      "* `[^\u201d]+` matches any character *except* for a close quote. The plus sign means that it needs to find at least one non-close-quote character, but it will match as many as it can find.\n",
      "* `\u201d` finally matches the closing quote.\n",
      "\n",
      "All put together, this regular expression should match the quoted-quotes."
     ]
    },
    {
     "cell_type": "code",
     "collapsed": false,
     "input": [
      "matches = list(re.finditer(ur'\"[^\"]+\"', clean_text))\n",
      "print('{} quoted-quotes found.'.format(len(matches)))"
     ],
     "language": "python",
     "metadata": {},
     "outputs": [
      {
       "output_type": "stream",
       "stream": "stdout",
       "text": [
        "2897 quoted-quotes found.\n"
       ]
      }
     ],
     "prompt_number": 27
    },
    {
     "cell_type": "heading",
     "level": 2,
     "metadata": {},
     "source": [
      "Locations"
     ]
    },
    {
     "cell_type": "markdown",
     "metadata": {},
     "source": [
      "Let's see where these quotes are located. We'll essentially create a histogram of the starting locations of all of the matches. We'll process the data into [`numpy`](http://www.numpy.org/) arrays, and we'll use [`matplotlib`](http://matplotlib.org/) to draw the actual graph. (We'll closely follow the [histogram path example](http://matplotlib.org/examples/api/histogram_path_demo.html).\n",
      "\n",
      "For a more finely grained visualization, change the value of the second parameter to `np.histogram`."
     ]
    },
    {
     "cell_type": "code",
     "collapsed": false,
     "input": [
      "locations = [m.start() for m in matches]\n",
      "n, bins = np.histogram(locations, 100)\n",
      "\n",
      "fig, ax = plt.subplots()\n",
      "\n",
      "# corners of the rectangles\n",
      "left = np.array(bins[:-1])\n",
      "right = np.array(bins[1:])\n",
      "bottom = np.zeros(len(left))\n",
      "top = bottom + n\n",
      "\n",
      "XY = np.array([[left, left, right, right], [bottom, top, top, bottom]]).T\n",
      "\n",
      "barpath = path.Path.make_compound_path_from_polys(XY)\n",
      "\n",
      "patch = patches.PathPatch(barpath, facecolor='blue', edgecolor='gray', alpha=0.8)\n",
      "ax.add_patch(patch)\n",
      "\n",
      "ax.set_xlim(left[0], right[-1])\n",
      "ax.set_ylim(bottom.min(), top.max())\n",
      "\n",
      "plt.show()"
     ],
     "language": "python",
     "metadata": {},
     "outputs": [
      {
       "metadata": {},
       "output_type": "display_data",
       "png": "[encoded data removed]",
       "text": [
        "<matplotlib.figure.Figure at 0x10bc8ea10>"
       ]
      }
     ],
     "prompt_number": 28
    },
    {
     "cell_type": "heading",
     "level": 2,
     "metadata": {},
     "source": [
      "Tokenization"
     ]
    },
    {
     "cell_type": "markdown",
     "metadata": {},
     "source": [
      "Now we have a corpus of the words. Let's break it up into tokens. We'll explicitly keep the punctuation."
     ]
    },
    {
     "cell_type": "code",
     "collapsed": false,
     "input": [
      "def take_while(pred, input_str):\n",
      "    \"\"\"This returns the prefix of a string that matches pred,\n",
      "    and the suffix where the match stops.\"\"\"\n",
      "    for (i, c) in enumerate(input_str):\n",
      "        if not pred(c):\n",
      "            return (input_str[:i], input_str[i:])\n",
      "    else:\n",
      "        return (input_str, \"\")\n",
      "\n",
      "def is_punct(c):\n",
      "    \"\"\"Since `unicode` doesn't have a punctuation predicate...\"\"\"\n",
      "    return unicodedata.category(c)[0] == 'P'\n",
      "\n",
      "def tokenize(input_str):\n",
      "    \"\"\"This returns an iterator over the tokens in the string.\"\"\"\n",
      "    rest = None\n",
      "\n",
      "    # Since punctuations are always single characters, this isn't\n",
      "    # handled by `take_while`.\n",
      "    if is_punct(input_str[0]):\n",
      "        yield input_str[0]\n",
      "        rest = input_str[1:]\n",
      "\n",
      "    else:\n",
      "        # Try to match a string of letters or numbers. The first\n",
      "        # that succeeds, yield the token and stop trying.\n",
      "        for p in (unicode.isalpha, unicode.isdigit):\n",
      "            token, rest = take_while(p, input_str)\n",
      "            if token:\n",
      "                yield token\n",
      "                break\n",
      "        # If it wasn't a letter or number, skip a character.\n",
      "        else:\n",
      "            rest = input_str[1:]\n",
      "\n",
      "    # If there's more to try, get its tokenize and yield them.\n",
      "    if rest:\n",
      "        for token in tokenize(rest):\n",
      "            yield token\n",
      "\n",
      "print(list(tokenize(matches[0].group())))"
     ],
     "language": "python",
     "metadata": {},
     "outputs": [
      {
       "output_type": "stream",
       "stream": "stdout",
       "text": [
        "[u'\"', u'so', u'of', u'course', u',', u'\"']\n"
       ]
      }
     ],
     "prompt_number": 17
    },
    {
     "cell_type": "heading",
     "level": 2,
     "metadata": {},
     "source": [
      "Vector Space Model"
     ]
    },
    {
     "cell_type": "markdown",
     "metadata": {},
     "source": [
      "A common way to deal with NLP documents is as a [vector space model](http://en.wikipedia.org/wiki/Vector_space_model). This takes the words out of order and just stores them as a list of frequencies. It also has to keep a look up table so you can go between words and vector indices easily.\n",
      "\n",
      "To make this easier, let's create a class to handle the lookup tables."
     ]
    },
    {
     "cell_type": "code",
     "collapsed": false,
     "input": [
      "class VectorSpace(object):\n",
      "    def __init__(self):\n",
      "        self.by_index = {}\n",
      "        self.by_token = {}\n",
      "    def __len__(self):\n",
      "        return len(self.by_index)\n",
      "    def get_index(self, token):\n",
      "        \"\"\"If it doesn't have an index for the token, create one.\"\"\"\n",
      "        try:\n",
      "            i = self.by_token[token]\n",
      "        except KeyError:\n",
      "            i = len(self.by_token)\n",
      "            self.by_token[token] = i\n",
      "            self.by_index[i] = token\n",
      "        return i\n",
      "    def lookup_token(self, i):\n",
      "        \"\"\"Returns None if there is no token at that position.\"\"\"\n",
      "        return self.by_index.get(i)\n",
      "    def lookup_index(self, token):\n",
      "        \"\"\"Returns None if there is no index for that token.\"\"\"\n",
      "        return self.by_token.get(token)\n",
      "    def vectorize(self, token_seq):\n",
      "        \"\"\"This turns a list of tokens into a numpy array.\"\"\"\n",
      "        v = [0] * len(self.by_token)\n",
      "        for token in token_seq:\n",
      "            i = self.get_index(token)\n",
      "            if i < len(v):\n",
      "                v[i] += 1\n",
      "            elif i == len(v):\n",
      "                v.append(1)\n",
      "            else:\n",
      "                raise Exception(\"Invalid index {} (len = {})\".format(i, len(v)))\n",
      "        return np.array(v)\n",
      "    def pad(self, array):\n",
      "        \"\"\"This pads a numpy array to match the dimensions of this vector space.\"\"\"\n",
      "        padding = np.zeros(len(self) - len(array))\n",
      "        return np.concatenate((array, padding))\n",
      "    \n",
      "vs = VectorSpace()\n",
      "\n",
      "corpus = [list(tokenize(m.group())) for m in matches]\n",
      "vs_corpus = [vs.vectorize(doc) for doc in corpus]\n",
      "vs_corpus = [vs.pad(d) for d in vs_corpus]\n",
      "\n",
      "vs_corpus[0][vs.lookup_index('the')]"
     ],
     "language": "python",
     "metadata": {},
     "outputs": [
      {
       "metadata": {},
       "output_type": "pyout",
       "prompt_number": 18,
       "text": [
        "0.0"
       ]
      }
     ],
     "prompt_number": 18
    },
    {
     "cell_type": "heading",
     "level": 2,
     "metadata": {},
     "source": [
      "Frequencies"
     ]
    },
    {
     "cell_type": "markdown",
     "metadata": {},
     "source": [
      "We'll also want to be able to look at the frequencies of words. We'll filter out the punctuation for this, and then create a `Counter` of the fields."
     ]
    },
    {
     "cell_type": "code",
     "collapsed": false,
     "input": [
      "def frequencies(corpus):\n",
      "    \"\"\"This takes a list of list of tokens and returns a `Counter`.\"\"\"\n",
      "    return collections.Counter(\n",
      "        itertools.ifilter(lambda t: not (len(t) == 1 and is_punct(t)),\n",
      "                          itertools.chain.from_iterable(corpus)))\n",
      "\n",
      "freqs = frequencies(corpus)\n",
      "for (token, freq) in freqs.most_common(25):\n",
      "    print(u'{}\\t{}'.format(token, freq))"
     ],
     "language": "python",
     "metadata": {},
     "outputs": [
      {
       "output_type": "stream",
       "stream": "stdout",
       "text": [
        "i\t213\n",
        "the\t208\n",
        "you\t169\n",
        "to\t145\n",
        "s\t120\n",
        "it\t103\n",
        "a\t94\n",
        "of\t92\n",
        "that\t88\n",
        "is\t82\n",
        "t\t75\n",
        "and\t67\n",
        "in\t66\n",
        "he\t64\n",
        "what\t61\n",
        "but\t50\n",
        "one\t47\n",
        "my\t43\n",
        "for\t43\n",
        "there\t43\n",
        "are\t43\n",
        "me\t40\n",
        "have\t40\n",
        "mr\t39\n",
        "like\t39\n"
       ]
      }
     ],
     "prompt_number": 19
    }
   ],
   "metadata": {}
  }
 ]
}